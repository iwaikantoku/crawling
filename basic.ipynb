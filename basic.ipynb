{
 "cells": [
  {
   "cell_type": "code",
   "execution_count": 4,
   "metadata": {
    "collapsed": false
   },
   "outputs": [],
   "source": [
    "from urllib.request import urlopen\n",
    "f = urlopen('https://www.apple.com/jp/')"
   ]
  },
  {
   "cell_type": "code",
   "execution_count": 5,
   "metadata": {
    "collapsed": false
   },
   "outputs": [
    {
     "data": {
      "text/plain": [
       "http.client.HTTPResponse"
      ]
     },
     "execution_count": 5,
     "metadata": {},
     "output_type": "execute_result"
    }
   ],
   "source": [
    "type(f)"
   ]
  },
  {
   "cell_type": "code",
   "execution_count": 7,
   "metadata": {
    "collapsed": false
   },
   "outputs": [
    {
     "data": {
      "text/plain": [
       "200"
      ]
     },
     "execution_count": 7,
     "metadata": {},
     "output_type": "execute_result"
    }
   ],
   "source": [
    "f.status"
   ]
  },
  {
   "cell_type": "code",
   "execution_count": 8,
   "metadata": {
    "collapsed": false
   },
   "outputs": [
    {
     "data": {
      "text/plain": [
       "'text/html; charset=UTF-8'"
      ]
     },
     "execution_count": 8,
     "metadata": {},
     "output_type": "execute_result"
    }
   ],
   "source": [
    "f.getheader('Content-Type')"
   ]
  },
  {
   "cell_type": "code",
   "execution_count": 9,
   "metadata": {
    "collapsed": true
   },
   "outputs": [],
   "source": [
    "import sys"
   ]
  },
  {
   "cell_type": "code",
   "execution_count": 11,
   "metadata": {
    "collapsed": false
   },
   "outputs": [
    {
     "name": "stdout",
     "output_type": "stream",
     "text": [
      "\n"
     ]
    },
    {
     "name": "stderr",
     "output_type": "stream",
     "text": [
      "encoding: utf-8\n"
     ]
    }
   ],
   "source": [
    "encoding = f.info().get_content_charset(failobj=\"utf-8\")\n",
    "print('encoding:',encoding,file = sys.stderr)\n",
    "text = f.read().decode(encoding)\n",
    "print(text)"
   ]
  },
  {
   "cell_type": "code",
   "execution_count": 12,
   "metadata": {
    "collapsed": true
   },
   "outputs": [],
   "source": [
    "import re"
   ]
  },
  {
   "cell_type": "code",
   "execution_count": 14,
   "metadata": {
    "collapsed": false
   },
   "outputs": [
    {
     "name": "stderr",
     "output_type": "stream",
     "text": [
      "encoding: utf-8\n"
     ]
    }
   ],
   "source": [
    "bytes_content = f.read()\n",
    "scanned_text = bytes_content[:1024].decode('ascii',errors='replace')\n",
    "match = re.search(r'charset=[\"\\']?([\\w-]+)',scanned_text)\n",
    "if match:\n",
    "    encoding = match.group(1)\n",
    "else:\n",
    "    encoding = 'utf-8'\n",
    "print('encoding:',encoding,file=sys.stderr)"
   ]
  },
  {
   "cell_type": "markdown",
   "metadata": {},
   "source": [
    "\\wは単語の一部になり得る文字\\sは空白文字"
   ]
  },
  {
   "cell_type": "code",
   "execution_count": 15,
   "metadata": {
    "collapsed": false
   },
   "outputs": [
    {
     "data": {
      "text/plain": [
       "<_sre.SRE_Match object; span=(0, 3), match='abc'>"
      ]
     },
     "execution_count": 15,
     "metadata": {},
     "output_type": "execute_result"
    }
   ],
   "source": [
    "re.search(r'a.*c','abc1234DEF')"
   ]
  },
  {
   "cell_type": "code",
   "execution_count": 18,
   "metadata": {
    "collapsed": false
   },
   "outputs": [
    {
     "data": {
      "text/plain": [
       "<_sre.SRE_Match object; span=(0, 8), match='abc1234D'>"
      ]
     },
     "execution_count": 18,
     "metadata": {},
     "output_type": "execute_result"
    }
   ],
   "source": [
    "re.search(r'a.*d','abc1234DEF',re.IGNORECASE)"
   ]
  },
  {
   "cell_type": "code",
   "execution_count": 21,
   "metadata": {
    "collapsed": false
   },
   "outputs": [
    {
     "data": {
      "text/plain": [
       "'abc'"
      ]
     },
     "execution_count": 21,
     "metadata": {},
     "output_type": "execute_result"
    }
   ],
   "source": [
    "m = re.search(r'a(.*)c','abc1234DEF')\n",
    "m.group(0)"
   ]
  },
  {
   "cell_type": "code",
   "execution_count": 22,
   "metadata": {
    "collapsed": false
   },
   "outputs": [
    {
     "data": {
      "text/plain": [
       "'b'"
      ]
     },
     "execution_count": 22,
     "metadata": {},
     "output_type": "execute_result"
    }
   ],
   "source": [
    "m.group(1)"
   ]
  },
  {
   "cell_type": "code",
   "execution_count": 25,
   "metadata": {
    "collapsed": false
   },
   "outputs": [
    {
     "data": {
      "text/plain": [
       "['This', 'pen']"
      ]
     },
     "execution_count": 25,
     "metadata": {},
     "output_type": "execute_result"
    }
   ],
   "source": [
    "re.findall(r'\\w{3,}','This is a pen')"
   ]
  },
  {
   "cell_type": "code",
   "execution_count": 29,
   "metadata": {
    "collapsed": true
   },
   "outputs": [],
   "source": [
    "from html import unescape\n",
    "f = urlopen('https://www.apple.com/jp/')"
   ]
  },
  {
   "cell_type": "code",
   "execution_count": 30,
   "metadata": {
    "collapsed": true
   },
   "outputs": [],
   "source": [
    "html = f.read()"
   ]
  },
  {
   "cell_type": "code",
   "execution_count": null,
   "metadata": {
    "collapsed": false
   },
   "outputs": [],
   "source": []
  },
  {
   "cell_type": "code",
   "execution_count": 36,
   "metadata": {
    "collapsed": false
   },
   "outputs": [
    {
     "name": "stdout",
     "output_type": "stream",
     "text": [
      "2017年11月28日　密会ねこーず ── 技評ねこ部通信 http://gihyo.jp/lifestyle/clip/01/everyday-cat/201711/28\n",
      "第59回　Percona XtraBackupを使ってみよう ── MySQL道普請便り http://gihyo.jp/dev/serial/01/mysql-road-construction-news/0059\n",
      "2017年11月27日　間隔をあけて座るねこーず ── 技評ねこ部通信 http://gihyo.jp/lifestyle/clip/01/everyday-cat/201711/27\n",
      "2017年11月27日　ミュンヘン，LinuxからWindowsへの移行を決定，移行費用は5000万ユーロ ── Linux Daily Topics http://gihyo.jp/admin/clip/01/linux_dt/201711/27\n",
      "「中高生国際Rubyプログラミングコンテスト2017 in Mitaka」の最終審査会進出者9組を決定，12月2日に最終審査会開催 ── インフォメーション http://gihyo.jp/news/info/2017/11/2401\n",
      "2017年11月24日　お寺のねこーず ── 技評ねこ部通信 http://gihyo.jp/lifestyle/clip/01/everyday-cat/201711/24\n",
      "2017年11月24日　VirtualBox 5.2.2がリリース，Linux 4.14 LTSをイニシャルサポート ── Linux Daily Topics http://gihyo.jp/admin/clip/01/linux_dt/201711/24\n",
      "AbemaTV Developer Conference 2017レポート ── レポート http://gihyo.jp/news/report/2017/11/2201\n",
      "第8回　教育におけるエンジニア出身社長の得手不得手 ── エンジニアと経営のクロスオーバー http://gihyo.jp/lifestyle/serial/01/engineer-x-manage/0008\n",
      "2017年11月第4週号 1位は，CSSグラデーションのチュートリアルと3つの利用例，気になるネタは，ビジネスチャット「Slack」に待望の日本語版--国内向けに「送信ボタン」新設 ── 週刊Webテク通信 http://gihyo.jp/design/clip/01/weekly-web-tech/201711/24\n",
      "第125回　つかってみようHAMMER2ファイルシステム ── BSD界隈四方山話 http://gihyo.jp/admin/serial/01/bsd-yomoyama/0125\n",
      "2017年11月第4週　11月の月例パッチでWPA2/WPAの脆弱性を修正ほか ── Android Weekly Topics http://gihyo.jp/lifestyle/clip/01/awt/201711/23\n",
      "2017年11月22日　運動会中のねこーず ── 技評ねこ部通信 http://gihyo.jp/lifestyle/clip/01/everyday-cat/201711/22\n",
      "第498回　Network ManagerのCLIクライアントでVPN接続をする ── Ubuntu Weekly Recipe http://gihyo.jp/admin/serial/01/ubuntu-recipe/0498\n",
      "スマホ時代だからこそ身に付けたい，基本的な情報リテラシー ── 新刊ピックアップ http://gihyo.jp/book/pickup/2017/0097\n",
      "2017年11月21日　はちべい軍団再び ── 技評ねこ部通信 http://gihyo.jp/lifestyle/clip/01/everyday-cat/201711/21\n",
      "子どもにはじめてスマホを持たせる前に ── 新刊ピックアップ http://gihyo.jp/book/pickup/2017/0096\n",
      "Excel作図の便利なテクニック ── 新刊ピックアップ http://gihyo.jp/book/pickup/2017/0095\n",
      "2017年11月20日　公園のねこーず ── 技評ねこ部通信 http://gihyo.jp/lifestyle/clip/01/everyday-cat/201711/20\n",
      "イライラ作業を3秒で解決！ Photoshopの作業時間を短縮しませんか？ ── 新刊ピックアップ http://gihyo.jp/book/pickup/2017/0093\n"
     ]
    }
   ],
   "source": [
    "from xml.etree import ElementTree\n",
    "tree = ElementTree.parse('/Users/hikari/rss2.xml')\n",
    "root  = tree.getroot()\n",
    "for item in root.findall('channel/item'):\n",
    "    title = item.find('title').text\n",
    "    url = item.find('link').text\n",
    "    print(title,url)"
   ]
  },
  {
   "cell_type": "code",
   "execution_count": null,
   "metadata": {
    "collapsed": true
   },
   "outputs": [],
   "source": []
  }
 ],
 "metadata": {
  "kernelspec": {
   "display_name": "Python 3",
   "language": "python",
   "name": "python3"
  },
  "language_info": {
   "codemirror_mode": {
    "name": "ipython",
    "version": 3
   },
   "file_extension": ".py",
   "mimetype": "text/x-python",
   "name": "python",
   "nbconvert_exporter": "python",
   "pygments_lexer": "ipython3",
   "version": "3.6.0"
  }
 },
 "nbformat": 4,
 "nbformat_minor": 2
}
