{
 "cells": [
  {
   "cell_type": "code",
   "execution_count": 7,
   "metadata": {
    "collapsed": false
   },
   "outputs": [],
   "source": [
    "import scrapy \n",
    "class BlogSpider(scrapy.Spider):\n",
    "    name = 'blogspider'\n",
    "    start_urls = ['https://blog.scrapinghub.com']\n",
    "    def parse(self,response):\n",
    "        for url in response.css('ul li a::attr(\"href\")').re('.*/category/.*'):\n",
    "            yield scrapy.Request(response.urljoin(url),self.parse_titles)\n",
    "    def parse_titles(self,response):\n",
    "        for post_title in response.css('div.entries > ul > li a::text').extract():\n",
    "            yield  {'title':post_title}"
   ]
  },
  {
   "cell_type": "code",
   "execution_count": null,
   "metadata": {
    "collapsed": false
   },
   "outputs": [],
   "source": []
  },
  {
   "cell_type": "code",
   "execution_count": 4,
   "metadata": {
    "collapsed": false
   },
   "outputs": [],
   "source": [
    "from scrapy.spiders import SitemapSpider\n",
    "class WiredjpSpider(SitemapSpider):\n",
    "    name = \"wired.jp\"\n",
    "    allowed_domains = [\"wired.jp\"]\n",
    "    sitemap_urls = [\n",
    "        'http://wired.jp/robots.txt'\n",
    "    ]\n",
    "    sitemap_follow = [\n",
    "        r'post-2015-'\n",
    "    ]\n",
    "    sitemap_rules = [\n",
    "        (r'/2015/\\d\\d/\\d\\d/','parse_post'),\n",
    "    ]\n",
    "    def parse_post(self,response):\n",
    "        yield{\n",
    "            'title':response.css('h1.post-title::text').extract_first(),\n",
    "        }"
   ]
  },
  {
   "cell_type": "code",
   "execution_count": null,
   "metadata": {
    "collapsed": true
   },
   "outputs": [],
   "source": []
  }
 ],
 "metadata": {
  "kernelspec": {
   "display_name": "Python 3",
   "language": "python",
   "name": "python3"
  },
  "language_info": {
   "codemirror_mode": {
    "name": "ipython",
    "version": 3
   },
   "file_extension": ".py",
   "mimetype": "text/x-python",
   "name": "python",
   "nbconvert_exporter": "python",
   "pygments_lexer": "ipython3",
   "version": "3.6.0"
  }
 },
 "nbformat": 4,
 "nbformat_minor": 2
}
