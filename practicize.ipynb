{
 "cells": [
  {
   "cell_type": "code",
   "execution_count": 1,
   "metadata": {
    "collapsed": true
   },
   "outputs": [],
   "source": [
    "import pandas as pd"
   ]
  },
  {
   "cell_type": "code",
   "execution_count": 6,
   "metadata": {
    "collapsed": false
   },
   "outputs": [],
   "source": [
    "df_exchange=pd.read_csv('/Users/hikari/Downloads/exchange.csv',encoding='cp932',header=1,names=['date','USD'\n",
    "                                                                                    ,'rate'],\n",
    "           skipinitialspace=True,index_col=0,parse_dates=True)"
   ]
  },
  {
   "cell_type": "code",
   "execution_count": 8,
   "metadata": {
    "collapsed": false
   },
   "outputs": [
    {
     "data": {
      "image/png": "[encoded data removed]",
      "text/plain": [
       "<matplotlib.figure.Figure at 0x11983f208>"
      ]
     },
     "metadata": {},
     "output_type": "display_data"
    }
   ],
   "source": [
    "from datetime import datetime\n",
    "import matplotlib.pyplot as plt\n",
    "plt.plot(df_exchange.index,df_exchange.USD,label='ドル円')\n",
    "plt.xlim(datetime(1973,1,1),datetime.now())\n",
    "plt.ylim(70,200)\n",
    "plt.legend(loc='best')\n",
    "plt.show()"
   ]
  },
  {
   "cell_type": "code",
   "execution_count": 10,
   "metadata": {
    "collapsed": false
   },
   "outputs": [
    {
     "name": "stdout",
     "output_type": "stream",
     "text": [
      "Python - ウィキペディア\n",
      "/url?q=https://ja.wikipedia.org/wiki/Python&sa=U&ved=0ahUKEwjQpoC13OXXAhVFa7wKHUAjDwQQFggUMAA&usg=AOvVaw1Qqt9J52VVFO5I1gMUU8FZ\n",
      "Pythonとは - Python.jp\n",
      "/url?q=https://www.python.jp/about/&sa=U&ved=0ahUKEwjQpoC13OXXAhVFa7wKHUAjDwQQFggfMAE&usg=AOvVaw0EsUQ5Hb-4sMNs8yVTzRNr\n",
      "専門知識いらず！Pythonとは？言語の特徴から網羅的に徹底解説 | 侍 ...\n",
      "/url?q=https://www.sejuku.net/blog/7720&sa=U&ved=0ahUKEwjQpoC13OXXAhVFa7wKHUAjDwQQFgglMAI&usg=AOvVaw2WiT1I-c60pefdxWDGUyPV\n",
      "Python基礎講座(1 Pythonとは) - Qiita\n",
      "/url?q=https://qiita.com/Usek/items/ff4d87745dfc5d9b85a4&sa=U&ved=0ahUKEwjQpoC13OXXAhVFa7wKHUAjDwQQFgguMAM&usg=AOvVaw0R_g13t8TXZiU5aHPcYOLY\n",
      "Python 13197 posts - Qiita\n",
      "/url?q=https://qiita.com/tags/Python&sa=U&ved=0ahUKEwjQpoC13OXXAhVFa7wKHUAjDwQQFgg1MAQ&usg=AOvVaw2v5wfcnPgbXwV3yPbdqr8_\n",
      "Python 3を使うべきでない場合（なんてない） | プログラミング | POSTD\n",
      "/url?q=http://postd.cc/case-python-3/&sa=U&ved=0ahUKEwjQpoC13OXXAhVFa7wKHUAjDwQQFgg6MAU&usg=AOvVaw0ubRX07-hq7XqBjnkEwOxR\n",
      "Python入門\n",
      "/url?q=http://www.tohoho-web.com/python/&sa=U&ved=0ahUKEwjQpoC13OXXAhVFa7wKHUAjDwQQFghBMAY&usg=AOvVaw2dosHB4g5lHrZx5vnEY58m\n",
      "Pythonは今のうちに習得すべき？『スラスラわかるPython』著者・岩崎 ...\n",
      "/url?q=https://codezine.jp/article/detail/10329&sa=U&ved=0ahUKEwjQpoC13OXXAhVFa7wKHUAjDwQQFghIMAc&usg=AOvVaw3z2RFgoJ4llU0iN2PHOjyL\n",
      "Pythonとは？何に使えるの？Pythonの特徴や使い道を…｜Udemy ...\n",
      "/url?q=https://udemy.benesse.co.jp/development/python.html&sa=U&ved=0ahUKEwjQpoC13OXXAhVFa7wKHUAjDwQQFghOMAg&usg=AOvVaw3WN4esjL6snALTxgs8PuLw\n",
      "Download Python | Python.org\n",
      "/url?q=https://www.python.org/downloads/&sa=U&ved=0ahUKEwjQpoC13OXXAhVFa7wKHUAjDwQQFghUMAk&usg=AOvVaw1j6g-uRnoVfrxSJDesGyj4\n"
     ]
    }
   ],
   "source": [
    "from robobrowser import RoboBrowser\n",
    "browser = RoboBrowser(parser='html.parser')\n",
    "browser.open('https://www.google.co.jp/')\n",
    "form = browser.get_form(action='/search')\n",
    "form['q']='Python'\n",
    "browser.submit_form(form,list(form.submit_fields.values())[0])\n",
    "for a in browser.select('h3 > a'):\n",
    "    print(a.text)\n",
    "    print(a.get('href'))"
   ]
  },
  {
   "cell_type": "code",
   "execution_count": 14,
   "metadata": {
    "collapsed": false
   },
   "outputs": [
    {
     "name": "stdout",
     "output_type": "stream",
     "text": [
      "AIプログラミング書籍無償進呈 - エンジニア学習支援プログラム\n",
      "https://www.google.co.jp/aclk?sa=l&ai=DChcSEwjpq6uR4uXXAhXEByoKHToSD7UYABAAGgJ0bQ&sig=AOD64_3P_SDs7NIFIX4EfTDO6om65JqiJw&ved=0ahUKEwjEjKiR4uXXAhXFe7wKHUZ0Ae0Q0QwIEg&adurl=\n",
      "Python - ウィキペディア\n",
      "https://www.google.co.jp/url?q=https://ja.wikipedia.org/wiki/Python&sa=U&ved=0ahUKEwjEjKiR4uXXAhXFe7wKHUZ0Ae0QFggaMAA&usg=AOvVaw1L_uuPefwlDZ9iKKRuyMeR\n",
      "Pythonとは - Python.jp\n",
      "https://www.google.co.jp/url?q=https://www.python.jp/about/&sa=U&ved=0ahUKEwjEjKiR4uXXAhXFe7wKHUZ0Ae0QFgglMAE&usg=AOvVaw1pCO10TXkFkwWwk8qUAr_d\n",
      "専門知識いらず！Pythonとは？言語の特徴から網羅的に徹底解説 | 侍 ...\n",
      "https://www.google.co.jp/url?q=https://www.sejuku.net/blog/7720&sa=U&ved=0ahUKEwjEjKiR4uXXAhXFe7wKHUZ0Ae0QFggrMAI&usg=AOvVaw2LzSUmyUDngsVJqp5zAn-D\n",
      "Python基礎講座(1 Pythonとは) - Qiita\n",
      "https://www.google.co.jp/url?q=https://qiita.com/Usek/items/ff4d87745dfc5d9b85a4&sa=U&ved=0ahUKEwjEjKiR4uXXAhXFe7wKHUZ0Ae0QFgg0MAM&usg=AOvVaw0lOB8lKFqEC5hI148Jy1wf\n",
      "Python 13197 posts - Qiita\n",
      "https://www.google.co.jp/url?q=https://qiita.com/tags/Python&sa=U&ved=0ahUKEwjEjKiR4uXXAhXFe7wKHUZ0Ae0QFgg7MAQ&usg=AOvVaw0xZ909P5Em0gUMgHPNXJT7\n",
      "Python 3を使うべきでない場合（なんてない） | プログラミング | POSTD\n",
      "https://www.google.co.jp/url?q=http://postd.cc/case-python-3/&sa=U&ved=0ahUKEwjEjKiR4uXXAhXFe7wKHUZ0Ae0QFghAMAU&usg=AOvVaw0XT2SvIU0SVb0zO5sZwz5U\n",
      "Python入門\n",
      "https://www.google.co.jp/url?q=http://www.tohoho-web.com/python/&sa=U&ved=0ahUKEwjEjKiR4uXXAhXFe7wKHUZ0Ae0QFghHMAY&usg=AOvVaw3WkkBvEduOQf_ai6ojekHU\n",
      "Pythonは今のうちに習得すべき？『スラスラわかるPython』著者・岩崎 ...\n",
      "https://www.google.co.jp/url?q=https://codezine.jp/article/detail/10329&sa=U&ved=0ahUKEwjEjKiR4uXXAhXFe7wKHUZ0Ae0QFghOMAc&usg=AOvVaw3Gcd--Wwk7GiHW-fefB2dk\n",
      "Pythonとは？何に使えるの？Pythonの特徴や使い道を…｜Udemy ...\n",
      "https://www.google.co.jp/url?q=https://udemy.benesse.co.jp/development/python.html&sa=U&ved=0ahUKEwjEjKiR4uXXAhXFe7wKHUZ0Ae0QFghUMAg&usg=AOvVaw3NqaeAZnDHrrh6VhMTMHqI\n",
      "Download Python | Python.org\n",
      "https://www.google.co.jp/url?q=https://www.python.org/downloads/&sa=U&ved=0ahUKEwjEjKiR4uXXAhXFe7wKHUZ0Ae0QFghaMAk&usg=AOvVaw3OkQyTXwinilt4b1vyGOA6\n"
     ]
    }
   ],
   "source": [
    "from selenium import webdriver\n",
    "from selenium.webdriver.common.keys import Keys\n",
    "driver = webdriver.PhantomJS()\n",
    "driver.get('https://www.google.co.jp/')\n",
    "assert 'Google' in driver.title\n",
    "input_element = driver.find_element_by_name('q')\n",
    "input_element.send_keys('Python')\n",
    "input_element.send_keys(Keys.RETURN)\n",
    "assert 'Python' in driver.title\n",
    "driver.save_screenshot('serch_result.png')\n",
    "\n",
    "for a in driver.find_elements_by_css_selector('h3 > a'):\n",
    "    print(a.text)\n",
    "    print(a.get_attribute('href'))"
   ]
  },
  {
   "cell_type": "code",
   "execution_count": 15,
   "metadata": {
    "collapsed": false
   },
   "outputs": [
    {
     "data": {
      "text/plain": [
       "'note ――つくる、つながる、とどける。'"
      ]
     },
     "execution_count": 15,
     "metadata": {},
     "output_type": "execute_result"
    }
   ],
   "source": [
    "driver.get('https://note.mu/')\n",
    "driver.title\n"
   ]
  },
  {
   "cell_type": "code",
   "execution_count": null,
   "metadata": {
    "collapsed": true
   },
   "outputs": [],
   "source": []
  }
 ],
 "metadata": {
  "kernelspec": {
   "display_name": "Python 3",
   "language": "python",
   "name": "python3"
  },
  "language_info": {
   "codemirror_mode": {
    "name": "ipython",
    "version": 3
   },
   "file_extension": ".py",
   "mimetype": "text/x-python",
   "name": "python",
   "nbconvert_exporter": "python",
   "pygments_lexer": "ipython3",
   "version": "3.6.0"
  }
 },
 "nbformat": 4,
 "nbformat_minor": 2
}
